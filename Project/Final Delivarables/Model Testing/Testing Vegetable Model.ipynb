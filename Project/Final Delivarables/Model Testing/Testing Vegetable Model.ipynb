{
 "cells": [
  {
   "cell_type": "code",
   "execution_count": 1,
   "id": "4a7ee07f",
   "metadata": {},
   "outputs": [],
   "source": [
    "from tensorflow.keras.preprocessing.image import ImageDataGenerator\n",
    "import tensorflow as tf\n",
    "import matplotlib.pyplot as plt\n",
    "from tensorflow.keras import layers,models\n",
    "import os\n",
    "import numpy as np"
   ]
  },
  {
   "cell_type": "code",
   "execution_count": null,
   "id": "e5dc6cb0",
   "metadata": {},
   "outputs": [],
   "source": [
    "pip install h5py==2.10.0 --force-reinstall"
   ]
  },
  {
   "cell_type": "code",
   "execution_count": 13,
   "id": "fa27b14c",
   "metadata": {},
   "outputs": [
    {
     "name": "stdout",
     "output_type": "stream",
     "text": [
      "Note: you may need to restart the kernel to use updated packages.\n"
     ]
    },
    {
     "name": "stderr",
     "output_type": "stream",
     "text": [
      "ERROR: Could not find a version that satisfies the requirement python3-h5py (from versions: none)\n",
      "ERROR: No matching distribution found for python3-h5py\n"
     ]
    }
   ],
   "source": [
    "pip install python3-h5py"
   ]
  },
  {
   "cell_type": "code",
   "execution_count": 2,
   "id": "8c70a027",
   "metadata": {},
   "outputs": [],
   "source": [
    "model = tf.keras.models.load_model('VegModel')"
   ]
  },
  {
   "cell_type": "code",
   "execution_count": 3,
   "id": "714146d5",
   "metadata": {},
   "outputs": [
    {
     "name": "stdout",
     "output_type": "stream",
     "text": [
      "Found 3416 images belonging to 9 classes.\n"
     ]
    }
   ],
   "source": [
    "test_datagen =ImageDataGenerator (rescale = 1)\n",
    "x_test = test_datagen.flow_from_directory(r'D:\\IBM\\Dataset Plant Disease\\Veg-dataset\\Veg-dataset\\test_set',target_size = (128,128), batch_size = 24, class_mode = 'categorical')"
   ]
  },
  {
   "cell_type": "code",
   "execution_count": 4,
   "id": "7e57e441",
   "metadata": {},
   "outputs": [],
   "source": [
    "from tensorflow.keras.preprocessing import image"
   ]
  },
  {
   "cell_type": "code",
   "execution_count": 35,
   "id": "14cd03e0",
   "metadata": {},
   "outputs": [
    {
     "data": {
      "text/plain": [
       "'Corn_(maize)___Northern_Leaf_Blight'"
      ]
     },
     "execution_count": 35,
     "metadata": {},
     "output_type": "execute_result"
    }
   ],
   "source": [
    "img=image.load_img(r\"D:\\IBM\\Dataset Plant Disease\\fruit-dataset\\fruit-dataset\\test\\Apple___Black_rot\\00e909aa-e3ae-4558-9961-336bb0f35db3___JR_FrgE.S 8593.JPG\",target_size=(128,128))\n",
    "x=image.img_to_array(img)\n",
    "x=np.expand_dims(x,axis=0)\n",
    "y=np.argmax(model.predict(x),axis=1)\n",
    "index=['Apple___Black_rot', 'Apple___healthy', 'Corn_(maize)___healthy', 'Corn_(maize)___Northern_Leaf_Blight', 'Peach___Bacterial_spot', 'Peach___healthy']\n",
    "index[y[0]]"
   ]
  },
  {
   "cell_type": "code",
   "execution_count": 6,
   "id": "a755653a",
   "metadata": {},
   "outputs": [
    {
     "name": "stdout",
     "output_type": "stream",
     "text": [
      "143/143 [==============================] - 41s 265ms/step - loss: 3057.4453 - accuracy: 0.2960\n"
     ]
    },
    {
     "data": {
      "text/plain": [
       "[3057.4453125, 0.2959601879119873]"
      ]
     },
     "execution_count": 6,
     "metadata": {},
     "output_type": "execute_result"
    }
   ],
   "source": [
    "model.evaluate(x_test)"
   ]
  },
  {
   "cell_type": "code",
   "execution_count": null,
   "id": "d86d6485",
   "metadata": {},
   "outputs": [],
   "source": []
  }
 ],
 "metadata": {
  "kernelspec": {
   "display_name": "Python 3 (ipykernel)",
   "language": "python",
   "name": "python3"
  },
  "language_info": {
   "codemirror_mode": {
    "name": "ipython",
    "version": 3
   },
   "file_extension": ".py",
   "mimetype": "text/x-python",
   "name": "python",
   "nbconvert_exporter": "python",
   "pygments_lexer": "ipython3",
   "version": "3.8.0"
  }
 },
 "nbformat": 4,
 "nbformat_minor": 5
}
