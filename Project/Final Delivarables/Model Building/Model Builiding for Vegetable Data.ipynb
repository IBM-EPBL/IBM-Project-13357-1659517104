{
 "cells": [
  {
   "cell_type": "code",
   "execution_count": 1,
   "id": "9f902f7f",
   "metadata": {},
   "outputs": [],
   "source": [
    "from tensorflow.keras.preprocessing.image import ImageDataGenerator\n",
    "import tensorflow as tf\n",
    "import matplotlib.pyplot as plt\n",
    "from tensorflow.keras import layers,models\n",
    "import os\n",
    "import numpy as np"
   ]
  },
  {
   "cell_type": "code",
   "execution_count": 10,
   "id": "814c35ff",
   "metadata": {},
   "outputs": [
    {
     "name": "stdout",
     "output_type": "stream",
     "text": [
      "Note: you may need to restart the kernel to use updated packages.\n"
     ]
    },
    {
     "name": "stderr",
     "output_type": "stream",
     "text": [
      "ERROR: Invalid requirement: \"'h5py==2.10.0'\"\n"
     ]
    }
   ],
   "source": [
    "pip install 'h5py==2.10.0' --force-reinstall"
   ]
  },
  {
   "cell_type": "code",
   "execution_count": 2,
   "id": "001806f4",
   "metadata": {},
   "outputs": [],
   "source": [
    "train_datagen=ImageDataGenerator(rescale=1./255,zoom_range=0.2,horizontal_flip=True,vertical_flip=False)"
   ]
  },
  {
   "cell_type": "code",
   "execution_count": 3,
   "id": "2b66fcdf",
   "metadata": {},
   "outputs": [
    {
     "name": "stdout",
     "output_type": "stream",
     "text": [
      "Found 11386 images belonging to 9 classes.\n"
     ]
    }
   ],
   "source": [
    "x_train=train_datagen.flow_from_directory(r\"D:\\IBM\\Dataset Plant Disease\\Veg-dataset\\Veg-dataset\\train_set\",target_size=(128,128),\n",
    "                                        class_mode='categorical',batch_size=24)"
   ]
  },
  {
   "cell_type": "code",
   "execution_count": 4,
   "id": "e0ce230f",
   "metadata": {},
   "outputs": [],
   "source": [
    "from tensorflow.keras.models import Sequential\n",
    "from tensorflow.keras.layers import Dense,Convolution2D,MaxPooling2D,Flatten"
   ]
  },
  {
   "cell_type": "code",
   "execution_count": 5,
   "id": "3c182f9e",
   "metadata": {},
   "outputs": [
    {
     "name": "stdout",
     "output_type": "stream",
     "text": [
      "Model: \"sequential\"\n",
      "_________________________________________________________________\n",
      " Layer (type)                Output Shape              Param #   \n",
      "=================================================================\n",
      " conv2d (Conv2D)             (None, 126, 126, 32)      896       \n",
      "                                                                 \n",
      " max_pooling2d (MaxPooling2D  (None, 63, 63, 32)       0         \n",
      " )                                                               \n",
      "                                                                 \n",
      " flatten (Flatten)           (None, 127008)            0         \n",
      "                                                                 \n",
      "=================================================================\n",
      "Total params: 896\n",
      "Trainable params: 896\n",
      "Non-trainable params: 0\n",
      "_________________________________________________________________\n"
     ]
    }
   ],
   "source": [
    "model=Sequential()\n",
    "model.add(Convolution2D(32,(3,3),input_shape=(128,128,3),activation='relu'))\n",
    "model.add(MaxPooling2D(pool_size=(2,2)))\n",
    "model.add(Flatten())\n",
    "model.summary()"
   ]
  },
  {
   "cell_type": "code",
   "execution_count": 6,
   "id": "f76edd1e",
   "metadata": {},
   "outputs": [],
   "source": [
    "model.add(Dense(300,activation='relu'))\n",
    "model.add(Dense(150,activation='relu'))\n",
    "model.add(Dense(9,activation='softmax'))"
   ]
  },
  {
   "cell_type": "code",
   "execution_count": 14,
   "id": "ff0711df",
   "metadata": {},
   "outputs": [],
   "source": [
    "from tensorflow.keras import metrics"
   ]
  },
  {
   "cell_type": "code",
   "execution_count": 16,
   "id": "b5bfe684",
   "metadata": {},
   "outputs": [],
   "source": [
    "model.compile(loss='categorical_crossentropy',optimizer='adam',metrics=['accuracy',metrics.Precision(), metrics.Recall()])"
   ]
  },
  {
   "cell_type": "code",
   "execution_count": 8,
   "id": "e4f918a6",
   "metadata": {},
   "outputs": [
    {
     "data": {
      "text/plain": [
       "475"
      ]
     },
     "execution_count": 8,
     "metadata": {},
     "output_type": "execute_result"
    }
   ],
   "source": [
    "len(x_train)"
   ]
  },
  {
   "cell_type": "code",
   "execution_count": 17,
   "id": "ae429425",
   "metadata": {},
   "outputs": [
    {
     "name": "stdout",
     "output_type": "stream",
     "text": [
      "Epoch 1/10\n",
      "475/475 [==============================] - 107s 224ms/step - loss: 0.2196 - accuracy: 0.9258 - precision: 0.9364 - recall: 0.9161\n",
      "Epoch 2/10\n",
      "475/475 [==============================] - 106s 223ms/step - loss: 0.2114 - accuracy: 0.9293 - precision: 0.9370 - recall: 0.9223\n",
      "Epoch 3/10\n",
      "475/475 [==============================] - 105s 220ms/step - loss: 0.1832 - accuracy: 0.9356 - precision: 0.9428 - recall: 0.9291\n",
      "Epoch 4/10\n",
      "475/475 [==============================] - 106s 222ms/step - loss: 0.1753 - accuracy: 0.9397 - precision: 0.9472 - recall: 0.9332\n",
      "Epoch 5/10\n",
      "475/475 [==============================] - 116s 244ms/step - loss: 0.1669 - accuracy: 0.9423 - precision: 0.9486 - recall: 0.9361\n",
      "Epoch 6/10\n",
      "475/475 [==============================] - 110s 232ms/step - loss: 0.1502 - accuracy: 0.9468 - precision: 0.9521 - recall: 0.9418\n",
      "Epoch 7/10\n",
      "475/475 [==============================] - 113s 238ms/step - loss: 0.1544 - accuracy: 0.9487 - precision: 0.9543 - recall: 0.9438\n",
      "Epoch 8/10\n",
      "475/475 [==============================] - 114s 241ms/step - loss: 0.1331 - accuracy: 0.9546 - precision: 0.9582 - recall: 0.9513\n",
      "Epoch 9/10\n",
      "475/475 [==============================] - 120s 253ms/step - loss: 0.1526 - accuracy: 0.9485 - precision: 0.9540 - recall: 0.9445\n",
      "Epoch 10/10\n",
      "475/475 [==============================] - 116s 245ms/step - loss: 0.1286 - accuracy: 0.9543 - precision: 0.9581 - recall: 0.9497\n"
     ]
    }
   ],
   "source": [
    "history = model.fit(x_train,steps_per_epoch=len(x_train),epochs=10)"
   ]
  },
  {
   "cell_type": "code",
   "execution_count": 10,
   "id": "90fee0b1",
   "metadata": {},
   "outputs": [
    {
     "data": {
      "image/png": "[encoded data removed]",
      "text/plain": [
       "<Figure size 864x864 with 2 Axes>"
      ]
     },
     "metadata": {
      "needs_background": "light"
     },
     "output_type": "display_data"
    }
   ],
   "source": [
    "def plot_results(model):\n",
    "\n",
    "  plt.figure(figsize=(12, 12))\n",
    "  plt.subplot(3, 2, 1)\n",
    "  plt.plot(history.history['accuracy'], label = 'train_accuracy')\n",
    "  plt.xlabel('epoch')\n",
    "  plt.ylabel('accuracy')\n",
    "  plt.legend()\n",
    "  plt.subplot(3, 2, 2)\n",
    "  plt.plot(history.history['loss'], label = 'train_loss')\n",
    "  plt.xlabel('epoch')\n",
    "  plt.ylabel('accuracy')\n",
    "  plt.legend()\n",
    "  plt.show()\n",
    "\n",
    "\n",
    "    \n",
    "plot_results(model)"
   ]
  },
  {
   "cell_type": "code",
   "execution_count": 20,
   "id": "2c9de5ed",
   "metadata": {},
   "outputs": [
    {
     "data": {
      "image/png": "[encoded data removed]",
      "text/plain": [
       "<Figure size 864x864 with 1 Axes>"
      ]
     },
     "metadata": {
      "needs_background": "light"
     },
     "output_type": "display_data"
    }
   ],
   "source": [
    "def plot_results(model):\n",
    "\n",
    "  plt.figure(figsize=(12, 12))\n",
    "  plt.subplot(3, 2,1)\n",
    "  plt.plot(history.history['precision'], label = 'train_precision')\n",
    "  plt.plot(history.history['recall'], label = 'train_recall')\n",
    "  plt.xlabel('epoch')\n",
    "  plt.ylabel('Precision and Recall')\n",
    "  plt.legend()\n",
    "  plt.show()\n",
    "\n",
    "\n",
    "    \n",
    "plot_results(model)"
   ]
  },
  {
   "cell_type": "code",
   "execution_count": 11,
   "id": "c117fa79",
   "metadata": {},
   "outputs": [
    {
     "name": "stdout",
     "output_type": "stream",
     "text": [
      "INFO:tensorflow:Assets written to: VegModel\\assets\n"
     ]
    }
   ],
   "source": [
    "model.save('VegModel')"
   ]
  },
  {
   "cell_type": "code",
   "execution_count": 2,
   "id": "0c6d9362",
   "metadata": {},
   "outputs": [
    {
     "name": "stdout",
     "output_type": "stream",
     "text": [
      "The F1 Score is  0.9489637005426479\n"
     ]
    }
   ],
   "source": [
    "F1score = (2*0.9581*0.94) / (0.9581 + 0.94)\n",
    "print(\"The F1 Score is \", F1score)"
   ]
  }
 ],
 "metadata": {
  "kernelspec": {
   "display_name": "Python 3",
   "language": "python",
   "name": "python3"
  },
  "language_info": {
   "codemirror_mode": {
    "name": "ipython",
    "version": 3
   },
   "file_extension": ".py",
   "mimetype": "text/x-python",
   "name": "python",
   "nbconvert_exporter": "python",
   "pygments_lexer": "ipython3",
   "version": "3.8.8"
  }
 },
 "nbformat": 4,
 "nbformat_minor": 5
}
