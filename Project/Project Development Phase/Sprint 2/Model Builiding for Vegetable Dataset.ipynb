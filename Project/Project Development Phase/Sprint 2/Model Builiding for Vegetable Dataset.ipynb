{
 "cells": [
  {
   "cell_type": "code",
   "execution_count": 10,
   "id": "9f902f7f",
   "metadata": {},
   "outputs": [],
   "source": [
    "from tensorflow.keras.preprocessing.image import ImageDataGenerator\n",
    "import tensorflow as tf\n",
    "import matplotlib.pyplot as plt\n",
    "from tensorflow.keras import layers,models\n",
    "import os\n",
    "import numpy as np\n"
   ]
  },
  {
   "cell_type": "code",
   "execution_count": 2,
   "id": "e3b2b786",
   "metadata": {},
   "outputs": [],
   "source": [
    "train_datagen = ImageDataGenerator (rescale = 1./255, shear_range= 0.2,zoom_range= 0.2, horizontal_flip = True)\n",
    "test_datagen =ImageDataGenerator (rescale = 1)"
   ]
  },
  {
   "cell_type": "code",
   "execution_count": 15,
   "id": "14d42bbe",
   "metadata": {},
   "outputs": [
    {
     "name": "stdout",
     "output_type": "stream",
     "text": [
      "Found 5384 images belonging to 6 classes.\n"
     ]
    }
   ],
   "source": [
    "x_train = train_datagen.flow_from_directory(\n",
    "        r'D:\\IBM\\Dataset Plant Disease\\fruit-dataset\\fruit-dataset\\train',\n",
    "        target_size=(IMAGE_SIZE,IMAGE_SIZE),\n",
    "        batch_size=32,\n",
    "        class_mode=\"sparse\",\n",
    "#         save_to_dir=\"C:\\\\Code\\\\potato-disease-classification\\\\training\\\\AugmentedImages\"\n",
    ")"
   ]
  },
  {
   "cell_type": "code",
   "execution_count": 3,
   "id": "62d74bf6",
   "metadata": {},
   "outputs": [
    {
     "name": "stdout",
     "output_type": "stream",
     "text": [
      "Found 5384 images belonging to 6 classes.\n",
      "Found 1686 images belonging to 6 classes.\n"
     ]
    }
   ],
   "source": [
    "x_train = train_datagen.flow_from_directory(r'D:\\IBM\\Dataset Plant Disease\\fruit-dataset\\fruit-dataset\\train',target_size = (128,128), batch_size = 32, class_mode = 'categorical')\n",
    "x_test = test_datagen.flow_from_directory(r'D:\\IBM\\Dataset Plant Disease\\fruit-dataset\\fruit-dataset\\test',target_size = (128,128), batch_size = 32, class_mode = 'categorical')"
   ]
  },
  {
   "cell_type": "code",
   "execution_count": 8,
   "id": "57e5c0f8",
   "metadata": {},
   "outputs": [],
   "source": [
    "IMAGE_SIZE = 256\n",
    "CHANNELS = 3"
   ]
  },
  {
   "cell_type": "code",
   "execution_count": 11,
   "id": "c8da7eb6",
   "metadata": {},
   "outputs": [],
   "source": [
    "input_shape = (IMAGE_SIZE, IMAGE_SIZE, CHANNELS)\n",
    "n_classes = 6\n",
    "\n",
    "model = models.Sequential([\n",
    "    layers.InputLayer(input_shape=input_shape),\n",
    "    layers.Conv2D(32, kernel_size = (3,3), activation='relu'),\n",
    "    layers.MaxPooling2D((2, 2)),\n",
    "    layers.Conv2D(64,  kernel_size = (3,3), activation='relu'),\n",
    "    layers.MaxPooling2D((2, 2)),\n",
    "    layers.Conv2D(64,  kernel_size = (3,3), activation='relu'),\n",
    "    layers.MaxPooling2D((2, 2)),\n",
    "    layers.Conv2D(64, (3, 3), activation='relu'),\n",
    "    layers.MaxPooling2D((2, 2)),\n",
    "    layers.Conv2D(64, (3, 3), activation='relu'),\n",
    "    layers.MaxPooling2D((2, 2)),\n",
    "    layers.Conv2D(64, (3, 3), activation='relu'),\n",
    "    layers.MaxPooling2D((2, 2)),\n",
    "    layers.Flatten(),\n",
    "    layers.Dense(64, activation='relu'),\n",
    "    layers.Dense(n_classes, activation='softmax'),\n",
    "])"
   ]
  },
  {
   "cell_type": "code",
   "execution_count": 12,
   "id": "a1331482",
   "metadata": {},
   "outputs": [],
   "source": [
    "model.compile(\n",
    "    optimizer='adam',\n",
    "    loss=tf.keras.losses.SparseCategoricalCrossentropy(from_logits=False),\n",
    "    metrics=['accuracy']\n",
    ")"
   ]
  },
  {
   "cell_type": "code",
   "execution_count": null,
   "id": "697616cc",
   "metadata": {},
   "outputs": [
    {
     "name": "stdout",
     "output_type": "stream",
     "text": [
      "Epoch 1/20\n",
      "169/169 [==============================] - 127s 694ms/step - loss: 1.3877 - accuracy: 0.4501\n",
      "Epoch 2/20\n",
      "169/169 [==============================] - 83s 493ms/step - loss: 0.4537 - accuracy: 0.8467\n",
      "Epoch 3/20\n",
      "169/169 [==============================] - 1547s 9s/step - loss: 0.3491 - accuracy: 0.8759\n",
      "Epoch 4/20\n",
      "169/169 [==============================] - 129s 761ms/step - loss: 0.2874 - accuracy: 0.9003\n",
      "Epoch 5/20\n",
      "169/169 [==============================] - 1940s 12s/step - loss: 0.2705 - accuracy: 0.9104\n",
      "Epoch 6/20\n",
      "169/169 [==============================] - 131s 772ms/step - loss: 0.1615 - accuracy: 0.9434\n",
      "Epoch 7/20\n",
      "169/169 [==============================] - 126s 741ms/step - loss: 0.1438 - accuracy: 0.9477\n",
      "Epoch 8/20\n",
      "169/169 [==============================] - 132s 779ms/step - loss: 0.1232 - accuracy: 0.9553\n",
      "Epoch 9/20\n",
      "169/169 [==============================] - 128s 755ms/step - loss: 0.1057 - accuracy: 0.9614\n",
      "Epoch 10/20\n",
      "169/169 [==============================] - 129s 766ms/step - loss: 0.0767 - accuracy: 0.9739\n",
      "Epoch 11/20\n",
      "169/169 [==============================] - 190s 1s/step - loss: 0.0875 - accuracy: 0.9708\n",
      "Epoch 12/20\n",
      "169/169 [==============================] - 149s 878ms/step - loss: 0.1115 - accuracy: 0.9618\n",
      "Epoch 13/20\n",
      "169/169 [==============================] - 157s 928ms/step - loss: 0.0650 - accuracy: 0.9785\n",
      "Epoch 14/20\n",
      "169/169 [==============================] - 157s 930ms/step - loss: 0.0714 - accuracy: 0.9786\n",
      "Epoch 15/20\n",
      "169/169 [==============================] - 195s 1s/step - loss: 0.0599 - accuracy: 0.9753\n",
      "Epoch 16/20\n",
      "169/169 [==============================] - 171s 1s/step - loss: 0.0525 - accuracy: 0.9808\n",
      "Epoch 17/20\n",
      "169/169 [==============================] - 171s 1s/step - loss: 0.0535 - accuracy: 0.9794\n",
      "Epoch 18/20\n",
      " 87/169 [==============>...............] - ETA: 2:12 - loss: 0.0787 - accuracy: 0.9759"
     ]
    }
   ],
   "source": [
    "history = model.fit(\n",
    "    x_train,\n",
    "    batch_size=32,\n",
    "    verbose=1,\n",
    "    epochs=20,\n",
    ")"
   ]
  },
  {
   "cell_type": "code",
   "execution_count": null,
   "id": "c6e732c7",
   "metadata": {},
   "outputs": [],
   "source": []
  }
 ],
 "metadata": {
  "kernelspec": {
   "display_name": "Python 3 (ipykernel)",
   "language": "python",
   "name": "python3"
  },
  "language_info": {
   "codemirror_mode": {
    "name": "ipython",
    "version": 3
   },
   "file_extension": ".py",
   "mimetype": "text/x-python",
   "name": "python",
   "nbconvert_exporter": "python",
   "pygments_lexer": "ipython3",
   "version": "3.8.0"
  }
 },
 "nbformat": 4,
 "nbformat_minor": 5
}
