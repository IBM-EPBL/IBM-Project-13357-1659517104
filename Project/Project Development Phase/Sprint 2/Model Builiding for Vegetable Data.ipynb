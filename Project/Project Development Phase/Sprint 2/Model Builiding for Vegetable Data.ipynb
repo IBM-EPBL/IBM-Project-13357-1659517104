{
 "cells": [
  {
   "cell_type": "code",
   "execution_count": 1,
   "id": "9f902f7f",
   "metadata": {},
   "outputs": [],
   "source": [
    "from tensorflow.keras.preprocessing.image import ImageDataGenerator\n",
    "import tensorflow as tf\n",
    "import matplotlib.pyplot as plt\n",
    "from tensorflow.keras import layers,models\n",
    "import os\n",
    "import numpy as np\n"
   ]
  },
  {
   "cell_type": "code",
   "execution_count": 10,
   "id": "814c35ff",
   "metadata": {},
   "outputs": [
    {
     "name": "stdout",
     "output_type": "stream",
     "text": [
      "Note: you may need to restart the kernel to use updated packages.\n"
     ]
    },
    {
     "name": "stderr",
     "output_type": "stream",
     "text": [
      "ERROR: Invalid requirement: \"'h5py==2.10.0'\"\n"
     ]
    }
   ],
   "source": [
    "pip install 'h5py==2.10.0' --force-reinstall"
   ]
  },
  {
   "cell_type": "code",
   "execution_count": 3,
   "id": "001806f4",
   "metadata": {},
   "outputs": [],
   "source": [
    "train_datagen=ImageDataGenerator(rescale=1./255,zoom_range=0.2,horizontal_flip=True,vertical_flip=False)"
   ]
  },
  {
   "cell_type": "code",
   "execution_count": 4,
   "id": "2b66fcdf",
   "metadata": {},
   "outputs": [
    {
     "name": "stdout",
     "output_type": "stream",
     "text": [
      "Found 11386 images belonging to 9 classes.\n"
     ]
    }
   ],
   "source": [
    "x_train=train_datagen.flow_from_directory(r\"D:\\IBM\\Dataset Plant Disease\\Veg-dataset\\Veg-dataset\\train_set\",target_size=(128,128),\n",
    "                                        class_mode='categorical',batch_size=24)"
   ]
  },
  {
   "cell_type": "code",
   "execution_count": 5,
   "id": "e0ce230f",
   "metadata": {},
   "outputs": [],
   "source": [
    "from tensorflow.keras.models import Sequential\n",
    "from tensorflow.keras.layers import Dense,Convolution2D,MaxPooling2D,Flatten"
   ]
  },
  {
   "cell_type": "code",
   "execution_count": 6,
   "id": "3c182f9e",
   "metadata": {},
   "outputs": [
    {
     "name": "stdout",
     "output_type": "stream",
     "text": [
      "Model: \"sequential\"\n",
      "_________________________________________________________________\n",
      "Layer (type)                 Output Shape              Param #   \n",
      "=================================================================\n",
      "conv2d (Conv2D)              (None, 126, 126, 32)      896       \n",
      "_________________________________________________________________\n",
      "max_pooling2d (MaxPooling2D) (None, 63, 63, 32)        0         \n",
      "_________________________________________________________________\n",
      "flatten (Flatten)            (None, 127008)            0         \n",
      "=================================================================\n",
      "Total params: 896\n",
      "Trainable params: 896\n",
      "Non-trainable params: 0\n",
      "_________________________________________________________________\n"
     ]
    }
   ],
   "source": [
    "model=Sequential()\n",
    "model.add(Convolution2D(32,(3,3),input_shape=(128,128,3),activation='relu'))\n",
    "model.add(MaxPooling2D(pool_size=(2,2)))\n",
    "model.add(Flatten())\n",
    "model.summary()"
   ]
  },
  {
   "cell_type": "code",
   "execution_count": 7,
   "id": "f76edd1e",
   "metadata": {},
   "outputs": [],
   "source": [
    "model.add(Dense(300,activation='relu'))\n",
    "model.add(Dense(150,activation='relu'))\n",
    "model.add(Dense(9,activation='softmax'))"
   ]
  },
  {
   "cell_type": "code",
   "execution_count": 8,
   "id": "b5bfe684",
   "metadata": {},
   "outputs": [],
   "source": [
    "model.compile(loss='categorical_crossentropy',optimizer='adam',metrics=['accuracy'])"
   ]
  },
  {
   "cell_type": "code",
   "execution_count": 9,
   "id": "e4f918a6",
   "metadata": {},
   "outputs": [
    {
     "data": {
      "text/plain": [
       "475"
      ]
     },
     "execution_count": 9,
     "metadata": {},
     "output_type": "execute_result"
    }
   ],
   "source": [
    "len(x_train)"
   ]
  },
  {
   "cell_type": "code",
   "execution_count": 10,
   "id": "ae429425",
   "metadata": {},
   "outputs": [
    {
     "name": "stdout",
     "output_type": "stream",
     "text": [
      "Epoch 1/10\n",
      "475/475 [==============================] - 203s 398ms/step - loss: 2.9396 - accuracy: 0.4467\n",
      "Epoch 2/10\n",
      "475/475 [==============================] - 68s 142ms/step - loss: 0.6097 - accuracy: 0.7827\n",
      "Epoch 3/10\n",
      "475/475 [==============================] - 49s 102ms/step - loss: 0.4586 - accuracy: 0.8420\n",
      "Epoch 4/10\n",
      "475/475 [==============================] - 46s 96ms/step - loss: 0.3941 - accuracy: 0.8601\n",
      "Epoch 5/10\n",
      "475/475 [==============================] - 43s 91ms/step - loss: 0.3130 - accuracy: 0.8874\n",
      "Epoch 6/10\n",
      "475/475 [==============================] - 46s 97ms/step - loss: 0.3010 - accuracy: 0.8912\n",
      "Epoch 7/10\n",
      "475/475 [==============================] - 48s 102ms/step - loss: 0.2533 - accuracy: 0.9152\n",
      "Epoch 8/10\n",
      "475/475 [==============================] - 46s 97ms/step - loss: 0.2332 - accuracy: 0.9167\n",
      "Epoch 9/10\n",
      "475/475 [==============================] - 47s 98ms/step - loss: 0.2185 - accuracy: 0.9232\n",
      "Epoch 10/10\n",
      "475/475 [==============================] - 43s 91ms/step - loss: 0.2432 - accuracy: 0.9160\n"
     ]
    },
    {
     "data": {
      "text/plain": [
       "<tensorflow.python.keras.callbacks.History at 0x2840e479f10>"
      ]
     },
     "execution_count": 10,
     "metadata": {},
     "output_type": "execute_result"
    }
   ],
   "source": [
    "model.fit(x_train,steps_per_epoch=len(x_train),epochs=10)"
   ]
  },
  {
   "cell_type": "code",
   "execution_count": 11,
   "id": "c117fa79",
   "metadata": {},
   "outputs": [
    {
     "name": "stdout",
     "output_type": "stream",
     "text": [
      "INFO:tensorflow:Assets written to: VegModel\\assets\n"
     ]
    }
   ],
   "source": [
    "model.save('VegModel')"
   ]
  }
 ],
 "metadata": {
  "kernelspec": {
   "display_name": "Python 3 (ipykernel)",
   "language": "python",
   "name": "python3"
  },
  "language_info": {
   "codemirror_mode": {
    "name": "ipython",
    "version": 3
   },
   "file_extension": ".py",
   "mimetype": "text/x-python",
   "name": "python",
   "nbconvert_exporter": "python",
   "pygments_lexer": "ipython3",
   "version": "3.8.0"
  }
 },
 "nbformat": 4,
 "nbformat_minor": 5
}
